{
  "nbformat": 4,
  "nbformat_minor": 0,
  "metadata": {
    "colab": {
      "provenance": [],
      "include_colab_link": true
    },
    "kernelspec": {
      "name": "python3",
      "display_name": "Python 3"
    },
    "language_info": {
      "name": "python"
    }
  },
  "cells": [
    {
      "cell_type": "markdown",
      "metadata": {
        "id": "view-in-github",
        "colab_type": "text"
      },
      "source": [
        "<a href=\"https://colab.research.google.com/github/naga8199/CMPE257-Fall23-NagaLakshmi-Nagubandi/blob/take-home-exam/257_takehomexam_016648710ipynb.ipynb\" target=\"_parent\"><img src=\"https://colab.research.google.com/assets/colab-badge.svg\" alt=\"Open In Colab\"/></a>"
      ]
    },
    {
      "cell_type": "markdown",
      "source": [
        "Task 2 - Breast Cancer Data Set"
      ],
      "metadata": {
        "id": "lqNN8eOr_BNW"
      }
    },
    {
      "cell_type": "code",
      "execution_count": null,
      "metadata": {
        "colab": {
          "base_uri": "https://localhost:8080/"
        },
        "id": "MhncRUAZRdhb",
        "outputId": "969971de-732c-4bb2-84ee-4085d7d997c5"
      },
      "outputs": [
        {
          "output_type": "stream",
          "name": "stdout",
          "text": [
            "{'LogisticRegression': 0.961038961038961, 'DecisionTreeClassifier': 0.961038961038961, 'RandomForestClassifier': 0.961038961038961, 'SVC': 0.961038961038961}\n",
            "The best performing model is LogisticRegression with an accuracy of 0.96\n",
            "Confusion matrix:\n",
            "[[41  1]\n",
            " [ 2 33]]\n",
            "Classification report:\n",
            "              precision    recall  f1-score   support\n",
            "\n",
            "           B       0.95      0.98      0.96        42\n",
            "           M       0.97      0.94      0.96        35\n",
            "\n",
            "    accuracy                           0.96        77\n",
            "   macro avg       0.96      0.96      0.96        77\n",
            "weighted avg       0.96      0.96      0.96        77\n",
            "\n"
          ]
        }
      ],
      "source": [
        "# Importing the Required libraries\n",
        "import pandas as pd\n",
        "import numpy as np\n",
        "from sklearn.model_selection import train_test_split\n",
        "from sklearn.preprocessing import StandardScaler\n",
        "from sklearn.linear_model import LogisticRegression\n",
        "from sklearn.tree import DecisionTreeClassifier\n",
        "from sklearn.ensemble import RandomForestClassifier\n",
        "from sklearn.svm import SVC\n",
        "from sklearn.metrics import accuracy_score, confusion_matrix, classification_report\n",
        "\n",
        "# Loading the dataset into a data frame\n",
        "df = pd.read_csv('breast_cancer_dataset_preprocessed.csv')\n",
        "\n",
        "# Separating the features and the target column\n",
        "X = df.drop('y', axis=1)\n",
        "y = df['y']\n",
        "\n",
        "# Splitting the dataset into training and testing sets(80% Training and 20% Testing)\n",
        "X_train, X_test, y_train, y_test = train_test_split(X, y, test_size=0.2, random_state=710)\n",
        "\n",
        "# Scaling the features\n",
        "# Scaling ensures data is in consistent format for all the features\n",
        "# In standard scaler data is tranformed to have mean value of 0 and standard deviation of 1\n",
        "scaler = StandardScaler()\n",
        "X_train = scaler.fit_transform(X_train)\n",
        "X_test = scaler.transform(X_test)\n",
        "\n",
        "# Creating a list of models to compare\n",
        "models = [LogisticRegression(), DecisionTreeClassifier(), RandomForestClassifier(), SVC()]\n",
        "\n",
        "# Creating a dictionary to store the results of the models\n",
        "results = {}\n",
        "\n",
        "# Looping through all the models\n",
        "for model in models:\n",
        "    # Fitting the model on the training data set\n",
        "    model.fit(X_train, y_train)\n",
        "    # Predicting on the test set\n",
        "    y_pred = model.predict(X_test)\n",
        "    # Calculating the accuracy score of the models\n",
        "    acc = accuracy_score(y_test, y_pred)\n",
        "    # Storing the results in the 'results' dictionary\n",
        "    results[type(model).__name__] = acc\n",
        "\n",
        "# Printing the results of the models\n",
        "print(results)\n",
        "\n",
        "# Finding the best performing model among all the models\n",
        "best_model = max(results, key=results.get)\n",
        "best_acc = results[best_model]\n",
        "\n",
        "# Printing the best performing model name with the accuracy\n",
        "print(f'The best performing model is {best_model} with an accuracy of {best_acc:.2f}')\n",
        "\n",
        "# Evaluating the best performing model on the test set\n",
        "best_model = eval(best_model)()\n",
        "best_model.fit(X_train, y_train)\n",
        "y_pred = best_model.predict(X_test)\n",
        "conf_mat = confusion_matrix(y_test, y_pred)\n",
        "cla_rep = classification_report(y_test, y_pred)\n",
        "\n",
        "# Printing the confusion matrix and the classification report of the best performing algorithm\n",
        "print('Confusion matrix:')\n",
        "print(conf_mat)\n",
        "print('Classification report:')\n",
        "print(cla_rep)"
      ]
    },
    {
      "cell_type": "markdown",
      "source": [
        "The code above is based on the following methodology:\n",
        "\n",
        "- Used Pandas library to load the dataset from a csv file into a data frame.\n",
        "- Then separated the features and the target column.\n",
        "- Used Sklearn library to split the dataset into training and testing sets with a test size of 0.2(means 80% training and 20% testing) and a random state of 710 as instructed by the last 3 digits of SJSU ID.\n",
        "- Used Sklearn to scale the all the features using StandardScaler to make sure all features are in same format which in turn improves the performance of the models.\n",
        "- Used Sklearn to create four different machine learning models: Logistic Regression, Decision Tree, Random Forest, and Support Vector Machine. I have chosen these models because they are most widely used algorithms for classification tasks and each one have different strengths and weaknesses.\n",
        "- Used Sklearn to fit each model on the training set and to predict results on the test set. There are so many metrics to evaluate the performance of the models but I used accuracy score as the performance metric to compare the models. I stored the results of the models in a dictionary called 'results' for easy access.\n",
        "- Used Python library to find the best performing model based on the highest accuracy score. I printed the algorithm name and the accuracy of the best performing model.\n",
        "- Used sklearn library to calculate the best performing model on the test set by using confusion matrix and classification report. These metrics provide more information about the model's performance such as precision, recall, and f1-score for each class. I printed the confusion matrix and the classification report for the best performing model."
      ],
      "metadata": {
        "id": "BznkIHZjUZ2u"
      }
    },
    {
      "cell_type": "markdown",
      "source": [
        "Task 1 - The Synthetic Dataset"
      ],
      "metadata": {
        "id": "R_Od3d1A_Oi7"
      }
    },
    {
      "cell_type": "code",
      "source": [
        "# Importing the Required libraries\n",
        "import pandas as pd\n",
        "import numpy as np\n",
        "import matplotlib.pyplot as plt\n",
        "from sklearn.linear_model import LinearRegression\n",
        "from sklearn.preprocessing import PolynomialFeatures\n",
        "from sklearn.metrics import mean_squared_error\n",
        "\n",
        "# Loading the training and validations datasets\n",
        "train_df = pd.read_csv('synthetic_dataset.csv')\n",
        "val_df = pd.read_csv('synthetic_test_dataset.csv')\n",
        "\n",
        "# Separating the features and the target for training data set\n",
        "# Separating the features and the target for validation data set\n",
        "X_train = train_df[['x1', 'x2']].values\n",
        "y_train = train_df['y'].values.reshape(-1, 1)\n",
        "X_val = val_df[['x1', 'x2']].values\n",
        "y_val = val_df['y'].values.reshape(-1, 1)\n",
        "\n",
        "# Creating a list of polynomial degrees to compare their performance\n",
        "degrees = [1, 2, 3, 4]\n",
        "\n",
        "# Creating empty lists to store the training and validation errors of the polynomials\n",
        "train_errors = []\n",
        "val_errors = []\n",
        "\n",
        "# Looping through the polynomial degrees\n",
        "for degree in degrees:\n",
        "    # Creating a polynomial transformer\n",
        "    poly = PolynomialFeatures(degree=degree)\n",
        "    # Transforming the features\n",
        "    X_train_poly = poly.fit_transform(X_train)\n",
        "    X_val_poly = poly.transform(X_val)\n",
        "    # Creating a linear model\n",
        "    model = LinearRegression()\n",
        "    # Fitting the model on the training set\n",
        "    model.fit(X_train_poly, y_train)\n",
        "    # Predicting on the training and validation sets\n",
        "    y_train_pred = model.predict(X_train_poly)\n",
        "    y_val_pred = model.predict(X_val_poly)\n",
        "    # Calculating the mean squared errors for training and validation data sets\n",
        "    train_mse = mean_squared_error(y_train, y_train_pred)\n",
        "    val_mse = mean_squared_error(y_val, y_val_pred)\n",
        "    print(f\"Degree: {degree}, Training Error: {train_mse}, Validation Error: {val_mse}\")\n",
        "    # Storing the training and validation errors in the lists\n",
        "    train_errors.append(train_mse)\n",
        "    val_errors.append(val_mse)\n",
        "\n",
        "# Plotting the training and validation errors by degree\n",
        "plt.plot(degrees, train_errors, label='Training error')\n",
        "plt.plot(degrees, val_errors, label='Validation error')\n",
        "plt.xlabel('Degree of polynomial')\n",
        "plt.ylabel('Mean squared error')\n",
        "plt.title('Training and validation errors by polynomial degree')\n",
        "plt.legend()\n",
        "plt.show()\n"
      ],
      "metadata": {
        "colab": {
          "base_uri": "https://localhost:8080/",
          "height": 541
        },
        "id": "Rdm2zkUzVDK5",
        "outputId": "c4c6dabd-f472-4166-a9f6-96821b2116c6"
      },
      "execution_count": null,
      "outputs": [
        {
          "output_type": "stream",
          "name": "stdout",
          "text": [
            "Degree: 1, Training Error: 0.2971653474382958, Validation Error: 1.0221522611329286\n",
            "Degree: 2, Training Error: 0.264225596249698, Validation Error: 1.044010918544582\n",
            "Degree: 3, Training Error: 0.15967947248065617, Validation Error: 1.3488703972348894\n",
            "Degree: 4, Training Error: 0.13798827842996003, Validation Error: 1.3900292844003834\n"
          ]
        },
        {
          "output_type": "display_data",
          "data": {
            "text/plain": [
              "<Figure size 640x480 with 1 Axes>"
            ],
            "image/png": "[encoded data removed]"
          },
          "metadata": {}
        }
      ]
    },
    {
      "cell_type": "markdown",
      "source": [],
      "metadata": {
        "id": "VTyiszBk-_7o"
      }
    },
    {
      "cell_type": "markdown",
      "source": [
        "From the above results, we can see that training error is decreasing with higher degress of polynomial. That means models are fitted better with the training data with the increased complexity. But I can see contrast results in case of validation errors. Validation errors is increasing after the second degree polynomial. That means models are starting to overfit the training data and performing bad on unseen validation data set.\n",
        "\n",
        "**I choose 3rd degree polynomial**\n",
        "\n",
        "It is important to balance this trade-off between bias and variance before selecting the appropriate model. The Degree 3 polynomial in this scenario is balancing well between bias and varience. The model has a lower error than linear and quadratic models, meaning it fits the data better.\n",
        "\n",
        "The fourth degree model offers the lowest errors, but may also be prone to overfitting. An overfitted model captures noise from the training data, which can negatively affect its performance when applied to new, unknown data.\n",
        "\n",
        "There is a relatively close relationship between the validation error of the 3rd degree model and the validation error of the 4th degree model, suggesting that it generalizes well without requiring the additional complexity of a 4th degree model."
      ],
      "metadata": {
        "id": "AgyuiUZdAiLB"
      }
    },
    {
      "cell_type": "markdown",
      "source": [
        "References : w3 schools, stackoverflow, TowardsDataScience websites."
      ],
      "metadata": {
        "id": "bmn651IWEcwK"
      }
    }
  ]
}