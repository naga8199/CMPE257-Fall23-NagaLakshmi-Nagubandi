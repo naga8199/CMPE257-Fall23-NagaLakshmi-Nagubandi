{
  "nbformat": 4,
  "nbformat_minor": 0,
  "metadata": {
    "colab": {
      "provenance": [],
      "include_colab_link": true
    },
    "kernelspec": {
      "name": "python3",
      "display_name": "Python 3"
    },
    "language_info": {
      "name": "python"
    }
  },
  "cells": [
    {
      "cell_type": "markdown",
      "metadata": {
        "id": "view-in-github",
        "colab_type": "text"
      },
      "source": [
        "<a href=\"https://colab.research.google.com/github/naga8199/CMPE257-Fall23-NagaLakshmi-Nagubandi/blob/homework-3/HW3.ipynb\" target=\"_parent\"><img src=\"https://colab.research.google.com/assets/colab-badge.svg\" alt=\"Open In Colab\"/></a>"
      ]
    },
    {
      "cell_type": "markdown",
      "source": [
        "Part 1 and part 2"
      ],
      "metadata": {
        "id": "o8ZZlCplk5eW"
      }
    },
    {
      "cell_type": "code",
      "source": [
        "import numpy as np\n",
        "\n",
        "def tanh_derivative(x):\n",
        "    return 1 - np.tanh(x)**2\n",
        "\n",
        "class NeuralNetwork:\n",
        "\n",
        "    def __init__(self, input_units, hidden_units):\n",
        "\n",
        "        self.W1 = np.random.randn(hidden_units, input_units)\n",
        "        self.b1 = np.zeros((hidden_units, 1))\n",
        "        self.W2 = np.random.randn(1, hidden_units)\n",
        "        self.b2 = np.zeros((1, 1))\n",
        "\n",
        "    def forward_propagation(self, X):\n",
        "\n",
        "        # Compute the weighted sum of the inputs for the first layer\n",
        "        self.Z1 = np.dot(self.W1, X) + self.b1\n",
        "        # Apply the tanh activation function\n",
        "        self.A1 = np.tanh(self.Z1)\n",
        "        # Compute the weighted sum of the outputs of the first layer for the second layer\n",
        "        self.Z2 = np.dot(self.W2, self.A1) + self.b2\n",
        "        # Apply the tanh activation function\n",
        "        self.A2 = np.tanh(self.Z2)\n",
        "        # Return the output of the network\n",
        "        return self.A2\n",
        "\n",
        "    def back_propagation(self, X, Y):\n",
        "\n",
        "        # Compute the number of samples\n",
        "        m = X.shape[1]\n",
        "        # Compute the difference between the network's output and the true labels\n",
        "        dZ2 = self.A2 - Y\n",
        "        # Compute the gradient of the weights of the second layer\n",
        "        dW2 = 1/m * np.dot(dZ2, self.A1.T)\n",
        "        # Compute the gradient of the biases of the second layer\n",
        "        db2 = 1/m * np.sum(dZ2, axis=1, keepdims=True)\n",
        "        # Compute the derivative of the tanh activation function for the first layer\n",
        "        dZ1 = np.dot(self.W2.T, dZ2) * tanh_derivative(self.Z1)\n",
        "        # Compute the gradient of the weights of the first layer\n",
        "        dW1 = 1/m * np.dot(dZ1, X.T)\n",
        "        # Compute the gradient of the biases of the first layer\n",
        "        db1 = 1/m * np.sum(dZ1, axis=1, keepdims=True)\n",
        "        # Return the gradients\n",
        "        return dW1, db1, dW2, db2\n",
        "\n",
        "    def update_parameters(self, dW1, db1, dW2, db2, learning_rate):\n",
        "\n",
        "        # Update the weights of the first layer\n",
        "        self.W1 -= learning_rate * dW1\n",
        "        # Update the biases of the first layer\n",
        "        self.b1 -= learning_rate * db1\n",
        "        # Update the weights of the second layer\n",
        "        self.W2 -= learning_rate * dW2\n",
        "        # Update the biases of the second layer\n",
        "        self.b2 -= learning_rate * db2\n",
        "\n",
        "    def train(self, X, Y, learning_rate, iterations):\n",
        "        for i in range(iterations):\n",
        "            self.forward_propagation(X)\n",
        "            dW1, db1, dW2, db2 = self.back_propagation(X, Y)\n",
        "            self.update_parameters(dW1, db1, dW2, db2, learning_rate)\n"
      ],
      "metadata": {
        "id": "N0eRdqcMs1kR"
      },
      "execution_count": 1,
      "outputs": []
    },
    {
      "cell_type": "markdown",
      "source": [
        "Part 3, 4 and 5"
      ],
      "metadata": {
        "id": "rECvkpjVlEId"
      }
    },
    {
      "cell_type": "code",
      "source": [
        "import pandas as pd\n",
        "import matplotlib.pyplot as plt\n",
        "from sklearn.model_selection import train_test_split\n",
        "from sklearn.preprocessing import LabelBinarizer\n",
        "\n",
        "# Assuming df is the DataFrame\n",
        "df = pd.read_csv('digits_data.csv')\n",
        "\n",
        "# Filtering out only 1's and 5's\n",
        "df = df[(df['Label'] == 1) | (df['Label'] == 5)]\n",
        "\n",
        "# Splitting into features and labels\n",
        "X = df.iloc[:, 1:].values\n",
        "y = df.iloc[:, 0].values\n",
        "\n",
        "# Binarize the labels\n",
        "lb = LabelBinarizer(neg_label=-1)\n",
        "y = lb.fit_transform(y)\n",
        "\n",
        "# Splitting into train and test sets\n",
        "X_train, X_test, y_train, y_test = train_test_split(X, y, test_size=0.2, random_state=42)\n",
        "\n",
        "# Initialize the neural network\n",
        "nn = NeuralNetwork(256, 30)  # 256 input units (16x16 images), 30 hidden units\n",
        "\n",
        "# Performing stochastic gradient descent\n",
        "errors = []\n",
        "n_iter = 2 * 10**6\n",
        "for i in range(n_iter):\n",
        "    # Picking up  a random sample\n",
        "    idx = np.random.randint(0, X_train.shape[0])\n",
        "    X_sample = X_train[idx].reshape(-1, 1)\n",
        "    y_sample = y_train[idx].reshape(-1, 1)\n",
        "\n",
        "    # Forward and backward propagation\n",
        "    nn.forward_propagation(X_sample)\n",
        "    dW1, db1, dW2, db2 = nn.back_propagation(X_sample, y_sample)\n",
        "\n",
        "    # Update parameters\n",
        "    nn.update_parameters(dW1, db1, dW2, db2, learning_rate=0.01)\n",
        "\n",
        "    # Calculating error\n",
        "    if i % 1000 == 0:\n",
        "      # Compute error for every 1000 iterations\n",
        "      predictions = np.sign(nn.forward_propagation(X_train.T))\n",
        "      error = np.mean(predictions != y_train)\n",
        "      errors.append(error)\n",
        "\n",
        "# Plot error vs iteration number\n",
        "plt.plot(errors)\n",
        "plt.xlabel('Iteration number (x1000)')\n",
        "plt.ylabel('Error')\n",
        "plt.show()\n",
        "\n",
        "# Compute test error\n",
        "predictions = np.sign(nn.forward_propagation(X_test.T))\n",
        "test_error = np.mean(predictions != y_test)\n",
        "print(f'Test error: {test_error}')\n"
      ],
      "metadata": {
        "colab": {
          "base_uri": "https://localhost:8080/",
          "height": 466
        },
        "id": "XeBDgfKdE7ed",
        "outputId": "72eb04ed-aa65-4564-ae6d-f4ee009e79dd"
      },
      "execution_count": 2,
      "outputs": [
        {
          "output_type": "display_data",
          "data": {
            "text/plain": [
              "<Figure size 640x480 with 1 Axes>"
            ],
            "image/png": "[encoded data removed]"
          },
          "metadata": {}
        },
        {
          "output_type": "stream",
          "name": "stdout",
          "text": [
            "Test error: 0.4631465055272586\n"
          ]
        }
      ]
    },
    {
      "cell_type": "markdown",
      "source": [
        "HP"
      ],
      "metadata": {
        "id": "p6wM4wc_lIz3"
      }
    },
    {
      "cell_type": "code",
      "source": [
        "# Perform mini-batch gradient descent\n",
        "errors = []\n",
        "batch_size = 32\n",
        "for i in range(n_iter):\n",
        "    # Pick a random batch of samples\n",
        "    idx = np.random.choice(X_train.shape[0], batch_size)\n",
        "    X_batch = X_train[idx].T\n",
        "    y_batch = y_train[idx].T\n",
        "\n",
        "    # Forward and backward propagation\n",
        "    nn.forward_propagation(X_batch)\n",
        "    dW1, db1, dW2, db2 = nn.back_propagation(X_batch, y_batch)\n",
        "\n",
        "    # Update parameters\n",
        "    nn.update_parameters(dW1, db1, dW2, db2, learning_rate=0.01)\n",
        "\n",
        "    # Compute error\n",
        "    if i % 1000 == 0:  # Compute error every 1000 iterations\n",
        "        predictions = np.sign(nn.forward_propagation(X_train.T))\n",
        "        error = np.mean(predictions != y_train)\n",
        "        errors.append(error)\n",
        "\n",
        "# Plot error vs iteration number\n",
        "plt.plot(errors)\n",
        "plt.xlabel('Iteration number (x1000)')\n",
        "plt.ylabel('Error')\n",
        "plt.show()\n",
        "\n",
        "# Compute test error\n",
        "predictions = np.sign(nn.forward_propagation(X_test.T))\n",
        "test_error = np.mean(predictions != y_test)\n",
        "print(f'Test error: {test_error}')\n"
      ],
      "metadata": {
        "colab": {
          "base_uri": "https://localhost:8080/",
          "height": 466
        },
        "id": "k836DOj4IDff",
        "outputId": "a825dddc-b608-478c-fc4a-b2cccce17209"
      },
      "execution_count": null,
      "outputs": [
        {
          "output_type": "display_data",
          "data": {
            "text/plain": [
              "<Figure size 640x480 with 1 Axes>"
            ],
            "image/png": "[encoded data removed]"
          },
          "metadata": {}
        },
        {
          "output_type": "stream",
          "name": "stdout",
          "text": [
            "Test error: 0.46568812583572355\n"
          ]
        }
      ]
    }
  ]
}